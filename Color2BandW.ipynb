{
  "nbformat": 4,
  "nbformat_minor": 0,
  "metadata": {
    "colab": {
      "name": "Color2BandW.ipynb",
      "provenance": [],
      "collapsed_sections": []
    },
    "kernelspec": {
      "name": "python3",
      "display_name": "Python 3"
    }
  },
  "cells": [
    {
      "cell_type": "code",
      "metadata": {
        "colab": {
          "base_uri": "https://localhost:8080/"
        },
        "id": "IbPOO8_Ihmui",
        "outputId": "796fac55-5413-44e9-df69-aae5f0357b3e"
      },
      "source": [
        "import os\n",
        "import cv2\n",
        "from google.colab import drive\n",
        "from tqdm import tqdm\n",
        "drive.mount('/content/gdrive')\n",
        "os.chdir('/content/gdrive/My Drive/Pix2pixAnimeColor')"
      ],
      "execution_count": null,
      "outputs": [
        {
          "output_type": "stream",
          "text": [
            "Mounted at /content/gdrive\n"
          ],
          "name": "stdout"
        }
      ]
    },
    {
      "cell_type": "code",
      "metadata": {
        "id": "Q9yxU15liLno",
        "colab": {
          "base_uri": "https://localhost:8080/"
        },
        "outputId": "20ef9948-5186-4cd2-de97-635e2170aef7"
      },
      "source": [
        "file_list = os.listdir('apply_test_image')\n",
        "len(file_list)"
      ],
      "execution_count": null,
      "outputs": [
        {
          "output_type": "execute_result",
          "data": {
            "text/plain": [
              "7"
            ]
          },
          "metadata": {
            "tags": []
          },
          "execution_count": 3
        }
      ]
    },
    {
      "cell_type": "code",
      "metadata": {
        "id": "Nef7ctLslDa0",
        "colab": {
          "base_uri": "https://localhost:8080/"
        },
        "outputId": "1da3674d-fbca-4021-bbda-9d88d2365f26"
      },
      "source": [
        "for name in tqdm(file_list):\n",
        "  grayImg = cv2.imread('apply_test_image/%s'%name, cv2.IMREAD_GRAYSCALE)\n",
        "  cv2.imwrite('BW_test_image/%s'%name, grayImg)"
      ],
      "execution_count": null,
      "outputs": [
        {
          "output_type": "stream",
          "text": [
            "100%|██████████| 7/7 [00:02<00:00,  3.00it/s]\n"
          ],
          "name": "stderr"
        }
      ]
    }
  ]
}